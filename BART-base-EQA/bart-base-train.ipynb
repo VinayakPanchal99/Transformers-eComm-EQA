{
 "cells": [
  {
   "cell_type": "markdown",
   "metadata": {},
   "source": [
    "## BART BASE FINE-TUNING ON CUSTOM DATASET - TRAINING FILE"
   ]
  },
  {
   "cell_type": "code",
   "execution_count": 1,
   "metadata": {
    "execution": {
     "iopub.execute_input": "2023-08-01T00:55:17.561470Z",
     "iopub.status.busy": "2023-08-01T00:55:17.561085Z",
     "iopub.status.idle": "2023-08-01T00:55:22.664996Z",
     "shell.execute_reply": "2023-08-01T00:55:22.662657Z",
     "shell.execute_reply.started": "2023-08-01T00:55:17.561433Z"
    }
   },
   "outputs": [
    {
     "name": "stderr",
     "output_type": "stream",
     "text": [
      "\u001b[34m\u001b[1mwandb\u001b[0m: Logging into wandb.ai. (Learn how to deploy a W&B server locally: https://wandb.me/wandb-server)\n",
      "\u001b[34m\u001b[1mwandb\u001b[0m: You can find your API key in your browser here: https://wandb.ai/authorize\n",
      "\u001b[34m\u001b[1mwandb\u001b[0m: Paste an API key from your profile and hit enter, or press ctrl+c to quit:"
     ]
    },
    {
     "name": "stdin",
     "output_type": "stream",
     "text": [
      "  ········································\n"
     ]
    },
    {
     "name": "stderr",
     "output_type": "stream",
     "text": [
      "\u001b[34m\u001b[1mwandb\u001b[0m: Appending key for api.wandb.ai to your netrc file: /root/.netrc\n"
     ]
    },
    {
     "data": {
      "text/plain": [
       "True"
      ]
     },
     "execution_count": 1,
     "metadata": {},
     "output_type": "execute_result"
    }
   ],
   "source": [
    "import wandb\n",
    "wandb.login() # add your api key"
   ]
  },
  {
   "cell_type": "code",
   "execution_count": 3,
   "metadata": {
    "execution": {
     "iopub.execute_input": "2023-08-01T00:55:26.182045Z",
     "iopub.status.busy": "2023-08-01T00:55:26.181294Z",
     "iopub.status.idle": "2023-08-01T00:55:40.743830Z",
     "shell.execute_reply": "2023-08-01T00:55:40.742830Z",
     "shell.execute_reply.started": "2023-08-01T00:55:26.182008Z"
    }
   },
   "outputs": [
    {
     "name": "stderr",
     "output_type": "stream",
     "text": [
      "/opt/conda/lib/python3.10/site-packages/scipy/__init__.py:146: UserWarning: A NumPy version >=1.16.5 and <1.23.0 is required for this version of SciPy (detected version 1.23.5\n",
      "  warnings.warn(f\"A NumPy version >={np_minversion} and <{np_maxversion}\"\n",
      "/opt/conda/lib/python3.10/site-packages/tensorflow_io/python/ops/__init__.py:98: UserWarning: unable to load libtensorflow_io_plugins.so: unable to open file: libtensorflow_io_plugins.so, from paths: ['/opt/conda/lib/python3.10/site-packages/tensorflow_io/python/ops/libtensorflow_io_plugins.so']\n",
      "caused by: ['/opt/conda/lib/python3.10/site-packages/tensorflow_io/python/ops/libtensorflow_io_plugins.so: undefined symbol: _ZN3tsl6StatusC1EN10tensorflow5error4CodeESt17basic_string_viewIcSt11char_traitsIcEENS_14SourceLocationE']\n",
      "  warnings.warn(f\"unable to load libtensorflow_io_plugins.so: {e}\")\n",
      "/opt/conda/lib/python3.10/site-packages/tensorflow_io/python/ops/__init__.py:104: UserWarning: file system plugins are not loaded: unable to open file: libtensorflow_io.so, from paths: ['/opt/conda/lib/python3.10/site-packages/tensorflow_io/python/ops/libtensorflow_io.so']\n",
      "caused by: ['/opt/conda/lib/python3.10/site-packages/tensorflow_io/python/ops/libtensorflow_io.so: undefined symbol: _ZTVN10tensorflow13GcsFileSystemE']\n",
      "  warnings.warn(f\"file system plugins are not loaded: {e}\")\n"
     ]
    }
   ],
   "source": [
    "import torch\n",
    "import torch.nn as nn\n",
    "from torch.utils.data import DataLoader\n",
    "from transformers import AdamW\n",
    "from tqdm import tqdm\n",
    "import json\n",
    "import pandas as pd\n",
    "import os\n",
    "import gzip\n",
    "import numpy as np\n",
    "import random\n",
    "import collections\n",
    "from transformers import AutoTokenizer"
   ]
  },
  {
   "cell_type": "markdown",
   "metadata": {},
   "source": [
    "## Load Dataset"
   ]
  },
  {
   "cell_type": "code",
   "execution_count": 4,
   "metadata": {
    "execution": {
     "iopub.execute_input": "2023-08-01T00:55:40.746535Z",
     "iopub.status.busy": "2023-08-01T00:55:40.745674Z",
     "iopub.status.idle": "2023-08-01T00:55:41.512116Z",
     "shell.execute_reply": "2023-08-01T00:55:41.511185Z",
     "shell.execute_reply.started": "2023-08-01T00:55:40.746500Z"
    }
   },
   "outputs": [
    {
     "data": {
      "text/plain": [
       "10375"
      ]
     },
     "execution_count": 4,
     "metadata": {},
     "output_type": "execute_result"
    }
   ],
   "source": [
    "path_meta = \"/kaggle/input/cell-phones-final/Cell_Phones_and_Accessories_final.json\"\n",
    "\n",
    "with open(path_meta,'r') as file:\n",
    "    data = json.load(file)\n",
    "len(data)"
   ]
  },
  {
   "cell_type": "code",
   "execution_count": 5,
   "metadata": {
    "execution": {
     "iopub.execute_input": "2023-08-01T00:55:41.514048Z",
     "iopub.status.busy": "2023-08-01T00:55:41.513678Z",
     "iopub.status.idle": "2023-08-01T00:55:41.521605Z",
     "shell.execute_reply": "2023-08-01T00:55:41.520696Z",
     "shell.execute_reply.started": "2023-08-01T00:55:41.514014Z"
    }
   },
   "outputs": [
    {
     "data": {
      "text/plain": [
       "{'id': 'B0015X7RSO',\n",
       " 'title': 'HTC Sprint Touch P3450 Smartphone Black Swivel Belt Clip Holster',\n",
       " 'context': 'It is a Generic product. Don apos t ever leave your phone behind again. By attaching our holster you can clip your phone onto your belt or just anywhere and feel free while your phone is secured. Brand new non OEM Custom made to fit your HTC Touch perfectly. Includes a swivel belt clip. Categories of product are Cell Phones Accessories Cases Holsters Sleeves',\n",
       " 'qas': [{'answer': {'answer_start': 8, 'text': 'Generic'},\n",
       "   'question': 'What type of product is it?'},\n",
       "  {'answer': {'answer_start': 29, 'text': 'apos'},\n",
       "   'question': 'What is the name of the name of the person who is responsible for leaving a phone behind?'},\n",
       "  {'answer': {'answer_start': 89, 'text': 'holster'},\n",
       "   'question': 'What is the name of the accessory that allows you to clip your phone onto your belt?'},\n",
       "  {'answer': {'answer_start': 210, 'text': 'OEM'},\n",
       "   'question': 'What is the name of the company that makes the HTC Touch?'},\n",
       "  {'answer': {'answer_start': 270, 'text': 'swivel'},\n",
       "   'question': 'What type of belt clip is included?'},\n",
       "  {'answer': {'answer_start': 314,\n",
       "    'text': 'Cell Phones Accessories Cases Holsters Sleeves'},\n",
       "   'question': 'What are the categories of product?'}]}"
      ]
     },
     "execution_count": 5,
     "metadata": {},
     "output_type": "execute_result"
    }
   ],
   "source": [
    "data[0]"
   ]
  },
  {
   "cell_type": "code",
   "execution_count": 6,
   "metadata": {
    "execution": {
     "iopub.execute_input": "2023-08-01T00:55:43.166480Z",
     "iopub.status.busy": "2023-08-01T00:55:43.165791Z",
     "iopub.status.idle": "2023-08-01T00:55:44.062258Z",
     "shell.execute_reply": "2023-08-01T00:55:44.061213Z",
     "shell.execute_reply.started": "2023-08-01T00:55:43.166439Z"
    }
   },
   "outputs": [
    {
     "data": {
      "application/vnd.jupyter.widget-view+json": {
       "model_id": "38fb051e9f6445b4aff19eb958e8ec1c",
       "version_major": 2,
       "version_minor": 0
      },
      "text/plain": [
       "Downloading (…)lve/main/config.json:   0%|          | 0.00/1.72k [00:00<?, ?B/s]"
      ]
     },
     "metadata": {},
     "output_type": "display_data"
    },
    {
     "data": {
      "application/vnd.jupyter.widget-view+json": {
       "model_id": "255cf592c9f940a4842bcb537d0c87f2",
       "version_major": 2,
       "version_minor": 0
      },
      "text/plain": [
       "Downloading (…)olve/main/vocab.json:   0%|          | 0.00/899k [00:00<?, ?B/s]"
      ]
     },
     "metadata": {},
     "output_type": "display_data"
    },
    {
     "data": {
      "application/vnd.jupyter.widget-view+json": {
       "model_id": "3ed1a93cbc644819b69bf91bce4693ea",
       "version_major": 2,
       "version_minor": 0
      },
      "text/plain": [
       "Downloading (…)olve/main/merges.txt:   0%|          | 0.00/456k [00:00<?, ?B/s]"
      ]
     },
     "metadata": {},
     "output_type": "display_data"
    },
    {
     "data": {
      "application/vnd.jupyter.widget-view+json": {
       "model_id": "3b09bf8a72b34aad9eeaa704f781aff2",
       "version_major": 2,
       "version_minor": 0
      },
      "text/plain": [
       "Downloading (…)/main/tokenizer.json:   0%|          | 0.00/1.36M [00:00<?, ?B/s]"
      ]
     },
     "metadata": {},
     "output_type": "display_data"
    }
   ],
   "source": [
    "tokenizer= AutoTokenizer.from_pretrained(\"facebook/bart-base\")"
   ]
  },
  {
   "cell_type": "code",
   "execution_count": 13,
   "metadata": {
    "execution": {
     "iopub.execute_input": "2023-08-01T00:56:30.693598Z",
     "iopub.status.busy": "2023-08-01T00:56:30.693213Z",
     "iopub.status.idle": "2023-08-01T00:56:30.711039Z",
     "shell.execute_reply": "2023-08-01T00:56:30.710076Z",
     "shell.execute_reply.started": "2023-08-01T00:56:30.693565Z"
    }
   },
   "outputs": [
    {
     "data": {
      "text/plain": [
       "(4000, 980, 20)"
      ]
     },
     "execution_count": 13,
     "metadata": {},
     "output_type": "execute_result"
    }
   ],
   "source": [
    "data_short = data[:5000]\n",
    "random.shuffle(data)\n",
    "train_data = data_short[:int(0.8*len(data_short))]\n",
    "val_data = data_short[int(0.8*len(data_short)):int(0.996*len(data_short))]\n",
    "test_data = data_short[int(0.996*len(data_short)):]\n",
    "len(train_data),len(val_data),len(test_data)"
   ]
  },
  {
   "cell_type": "code",
   "execution_count": 14,
   "metadata": {
    "execution": {
     "iopub.execute_input": "2023-08-01T00:56:31.426972Z",
     "iopub.status.busy": "2023-08-01T00:56:31.426310Z",
     "iopub.status.idle": "2023-08-01T00:56:31.436371Z",
     "shell.execute_reply": "2023-08-01T00:56:31.435451Z",
     "shell.execute_reply.started": "2023-08-01T00:56:31.426936Z"
    }
   },
   "outputs": [],
   "source": [
    "# storing test data seprately\n",
    "with open(\"/kaggle/working/Cell_Phones_and_Accessories_testflie.json\",'w') as file:\n",
    "    json.dump(test_data,file,indent=4)"
   ]
  },
  {
   "cell_type": "markdown",
   "metadata": {},
   "source": [
    "## Tokeinzing the data"
   ]
  },
  {
   "cell_type": "code",
   "execution_count": 15,
   "metadata": {
    "execution": {
     "iopub.execute_input": "2023-08-01T00:57:15.551552Z",
     "iopub.status.busy": "2023-08-01T00:57:15.551167Z",
     "iopub.status.idle": "2023-08-01T00:57:15.604254Z",
     "shell.execute_reply": "2023-08-01T00:57:15.603317Z",
     "shell.execute_reply.started": "2023-08-01T00:57:15.551518Z"
    }
   },
   "outputs": [],
   "source": [
    "# function extracts answers, questions, and contexts from the dataset\n",
    "def data_prep(data):\n",
    "    contexts = []\n",
    "    questions = []\n",
    "    answers = []\n",
    "    for prod in data:\n",
    "        context = prod['context']\n",
    "        for i in range(len(prod['qas'])):\n",
    "            question = prod['qas'][i]['question']\n",
    "            answer = prod['qas'][i]['answer']['text']\n",
    "            contexts.append(context)\n",
    "            questions.append(question)\n",
    "            answers.append(answer)\n",
    "    return contexts,questions,answers\n",
    "\n",
    "train_contexts,train_questions,train_answers = data_prep(train_data)\n",
    "val_contexts,val_questions,val_answers = data_prep(val_data)"
   ]
  },
  {
   "cell_type": "code",
   "execution_count": 16,
   "metadata": {
    "execution": {
     "iopub.execute_input": "2023-08-01T00:57:15.861299Z",
     "iopub.status.busy": "2023-08-01T00:57:15.860485Z",
     "iopub.status.idle": "2023-08-01T00:57:42.878257Z",
     "shell.execute_reply": "2023-08-01T00:57:42.877087Z",
     "shell.execute_reply.started": "2023-08-01T00:57:15.861247Z"
    }
   },
   "outputs": [],
   "source": [
    "# function tokenizes the questions and contexts together and labels seprately\n",
    "def encode_prep(questions,contexts,answers):\n",
    "    encode_qa = tokenizer(questions,contexts,truncation=True,padding=\"max_length\",max_length = 512,pad_to_max_length=True,\n",
    "                          add_special_tokens=True)\n",
    "    encode_ans = tokenizer(answers,truncation=True,padding=\"max_length\",max_length = 25,pad_to_max_length=True,\n",
    "                          add_special_tokens=True)\n",
    "    labels = encode_ans[\"input_ids\"]\n",
    "    encode_qa.update({'labels':labels,\"decoder_attention_mask\":encode_ans[\"attention_mask\"]})\n",
    "\n",
    "    return encode_qa\n",
    "\n",
    "train_embedding = encode_prep(train_questions,train_contexts,train_answers)\n",
    "val_embedding = encode_prep(val_questions,val_contexts,val_answers)"
   ]
  },
  {
   "cell_type": "code",
   "execution_count": 17,
   "metadata": {
    "execution": {
     "iopub.execute_input": "2023-08-01T00:57:42.881098Z",
     "iopub.status.busy": "2023-08-01T00:57:42.880659Z",
     "iopub.status.idle": "2023-08-01T00:57:42.887109Z",
     "shell.execute_reply": "2023-08-01T00:57:42.885789Z",
     "shell.execute_reply.started": "2023-08-01T00:57:42.881061Z"
    }
   },
   "outputs": [
    {
     "name": "stdout",
     "output_type": "stream",
     "text": [
      "33250 8291\n"
     ]
    }
   ],
   "source": [
    "print(len(train_embedding['input_ids']),len(val_embedding['input_ids']))"
   ]
  },
  {
   "cell_type": "markdown",
   "metadata": {},
   "source": [
    "## BART base of Question Answering"
   ]
  },
  {
   "cell_type": "code",
   "execution_count": 18,
   "metadata": {
    "execution": {
     "iopub.execute_input": "2023-08-01T00:57:42.889433Z",
     "iopub.status.busy": "2023-08-01T00:57:42.888708Z",
     "iopub.status.idle": "2023-08-01T00:57:42.900076Z",
     "shell.execute_reply": "2023-08-01T00:57:42.899314Z",
     "shell.execute_reply.started": "2023-08-01T00:57:42.889376Z"
    }
   },
   "outputs": [],
   "source": [
    "# creating instance of dataset to feed the model\n",
    "class prodDataset(torch.utils.data.Dataset):\n",
    "    def __init__(self, encodings):\n",
    "        self.encodings = encodings\n",
    "    def __getitem__(self, idx):\n",
    "        return {key: torch.tensor(val[idx]) for key, val in self.encodings.items()}\n",
    "    def __len__(self):\n",
    "        return len(self.encodings.input_ids)\n",
    "\n",
    "train_dataset = prodDataset(train_embedding)\n",
    "val_dataset = prodDataset(val_embedding)"
   ]
  },
  {
   "cell_type": "code",
   "execution_count": 19,
   "metadata": {
    "execution": {
     "iopub.execute_input": "2023-08-01T00:57:42.903560Z",
     "iopub.status.busy": "2023-08-01T00:57:42.902843Z",
     "iopub.status.idle": "2023-08-01T00:57:43.591960Z",
     "shell.execute_reply": "2023-08-01T00:57:43.590971Z",
     "shell.execute_reply.started": "2023-08-01T00:57:42.903500Z"
    }
   },
   "outputs": [],
   "source": [
    "from transformers import AutoModelForSeq2SeqLM, DataCollatorForSeq2Seq,Seq2SeqTrainingArguments, Seq2SeqTrainer"
   ]
  },
  {
   "cell_type": "code",
   "execution_count": 23,
   "metadata": {
    "execution": {
     "iopub.execute_input": "2023-08-01T00:59:58.986532Z",
     "iopub.status.busy": "2023-08-01T00:59:58.986126Z",
     "iopub.status.idle": "2023-08-01T00:59:58.993371Z",
     "shell.execute_reply": "2023-08-01T00:59:58.992408Z",
     "shell.execute_reply.started": "2023-08-01T00:59:58.986497Z"
    }
   },
   "outputs": [],
   "source": [
    "batch_size = 8\n",
    "model_name = \"bart-base-qa\"\n",
    "model_dir = \"/kaggle/working/model\"\n",
    "\n",
    "args = Seq2SeqTrainingArguments(\n",
    "    model_dir,\n",
    "    learning_rate=1e-5,\n",
    "    per_device_train_batch_size=batch_size,\n",
    "    per_device_eval_batch_size=batch_size,\n",
    "    weight_decay=0.01,\n",
    "    num_train_epochs=3,\n",
    "    evaluation_strategy=\"epoch\",\n",
    "    logging_strategy=\"epoch\",\n",
    "    save_strategy='epoch',\n",
    "    report_to=\"wandb\"\n",
    ")"
   ]
  },
  {
   "cell_type": "code",
   "execution_count": 24,
   "metadata": {
    "execution": {
     "iopub.execute_input": "2023-08-01T00:59:59.221761Z",
     "iopub.status.busy": "2023-08-01T00:59:59.221492Z",
     "iopub.status.idle": "2023-08-01T00:59:59.226372Z",
     "shell.execute_reply": "2023-08-01T00:59:59.225228Z",
     "shell.execute_reply.started": "2023-08-01T00:59:59.221736Z"
    }
   },
   "outputs": [],
   "source": [
    "data_collator = DataCollatorForSeq2Seq(tokenizer)"
   ]
  },
  {
   "cell_type": "markdown",
   "metadata": {},
   "source": [
    "## Training"
   ]
  },
  {
   "cell_type": "code",
   "execution_count": 25,
   "metadata": {
    "execution": {
     "iopub.execute_input": "2023-08-01T00:59:59.956863Z",
     "iopub.status.busy": "2023-08-01T00:59:59.956527Z",
     "iopub.status.idle": "2023-08-01T01:00:03.348444Z",
     "shell.execute_reply": "2023-08-01T01:00:03.347367Z",
     "shell.execute_reply.started": "2023-08-01T00:59:59.956835Z"
    }
   },
   "outputs": [],
   "source": [
    "model = AutoModelForSeq2SeqLM.from_pretrained(\"facebook/bart-base\")\n",
    "\n",
    "trainer = Seq2SeqTrainer(\n",
    "    model=model,\n",
    "    args=args,\n",
    "    train_dataset=train_dataset,\n",
    "    eval_dataset=val_dataset,\n",
    "    data_collator=data_collator,\n",
    "    tokenizer=tokenizer\n",
    ")"
   ]
  },
  {
   "cell_type": "code",
   "execution_count": 26,
   "metadata": {
    "execution": {
     "iopub.execute_input": "2023-08-01T01:00:13.112613Z",
     "iopub.status.busy": "2023-08-01T01:00:13.112229Z",
     "iopub.status.idle": "2023-08-01T02:12:18.994749Z",
     "shell.execute_reply": "2023-08-01T02:12:18.993510Z",
     "shell.execute_reply.started": "2023-08-01T01:00:13.112582Z"
    }
   },
   "outputs": [
    {
     "name": "stderr",
     "output_type": "stream",
     "text": [
      "/opt/conda/lib/python3.10/site-packages/transformers/optimization.py:411: FutureWarning: This implementation of AdamW is deprecated and will be removed in a future version. Use the PyTorch implementation torch.optim.AdamW instead, or set `no_deprecation_warning=True` to disable this warning\n",
      "  warnings.warn(\n",
      "\u001b[34m\u001b[1mwandb\u001b[0m: Currently logged in as: \u001b[33mvinayakpanchal99\u001b[0m. Use \u001b[1m`wandb login --relogin`\u001b[0m to force relogin\n"
     ]
    },
    {
     "data": {
      "text/html": [
       "wandb version 0.15.7 is available!  To upgrade, please run:\n",
       " $ pip install wandb --upgrade"
      ],
      "text/plain": [
       "<IPython.core.display.HTML object>"
      ]
     },
     "metadata": {},
     "output_type": "display_data"
    },
    {
     "data": {
      "text/html": [
       "Tracking run with wandb version 0.15.5"
      ],
      "text/plain": [
       "<IPython.core.display.HTML object>"
      ]
     },
     "metadata": {},
     "output_type": "display_data"
    },
    {
     "data": {
      "text/html": [
       "Run data is saved locally in <code>/kaggle/working/wandb/run-20230801_010013-44vs15h0</code>"
      ],
      "text/plain": [
       "<IPython.core.display.HTML object>"
      ]
     },
     "metadata": {},
     "output_type": "display_data"
    },
    {
     "data": {
      "text/html": [
       "Syncing run <strong><a href='https://wandb.ai/vinayakpanchal99/huggingface/runs/44vs15h0' target=\"_blank\">glorious-dew-19</a></strong> to <a href='https://wandb.ai/vinayakpanchal99/huggingface' target=\"_blank\">Weights & Biases</a> (<a href='https://wandb.me/run' target=\"_blank\">docs</a>)<br/>"
      ],
      "text/plain": [
       "<IPython.core.display.HTML object>"
      ]
     },
     "metadata": {},
     "output_type": "display_data"
    },
    {
     "data": {
      "text/html": [
       " View project at <a href='https://wandb.ai/vinayakpanchal99/huggingface' target=\"_blank\">https://wandb.ai/vinayakpanchal99/huggingface</a>"
      ],
      "text/plain": [
       "<IPython.core.display.HTML object>"
      ]
     },
     "metadata": {},
     "output_type": "display_data"
    },
    {
     "data": {
      "text/html": [
       " View run at <a href='https://wandb.ai/vinayakpanchal99/huggingface/runs/44vs15h0' target=\"_blank\">https://wandb.ai/vinayakpanchal99/huggingface/runs/44vs15h0</a>"
      ],
      "text/plain": [
       "<IPython.core.display.HTML object>"
      ]
     },
     "metadata": {},
     "output_type": "display_data"
    },
    {
     "name": "stderr",
     "output_type": "stream",
     "text": [
      "You're using a BartTokenizerFast tokenizer. Please note that with a fast tokenizer, using the `__call__` method is faster than using a method to encode the text followed by a call to the `pad` method to get a padded encoding.\n",
      "/opt/conda/lib/python3.10/site-packages/torch/nn/parallel/_functions.py:68: UserWarning: Was asked to gather along dimension 0, but all input tensors were scalars; will instead unsqueeze and return a vector.\n",
      "  warnings.warn('Was asked to gather along dimension 0, but all '\n"
     ]
    },
    {
     "data": {
      "text/html": [
       "\n",
       "    <div>\n",
       "      \n",
       "      <progress value='6237' max='6237' style='width:300px; height:20px; vertical-align: middle;'></progress>\n",
       "      [6237/6237 1:11:26, Epoch 3/3]\n",
       "    </div>\n",
       "    <table border=\"1\" class=\"dataframe\">\n",
       "  <thead>\n",
       " <tr style=\"text-align: left;\">\n",
       "      <th>Epoch</th>\n",
       "      <th>Training Loss</th>\n",
       "      <th>Validation Loss</th>\n",
       "    </tr>\n",
       "  </thead>\n",
       "  <tbody>\n",
       "    <tr>\n",
       "      <td>1</td>\n",
       "      <td>0.592400</td>\n",
       "      <td>0.069568</td>\n",
       "    </tr>\n",
       "    <tr>\n",
       "      <td>2</td>\n",
       "      <td>0.073600</td>\n",
       "      <td>0.058693</td>\n",
       "    </tr>\n",
       "    <tr>\n",
       "      <td>3</td>\n",
       "      <td>0.060000</td>\n",
       "      <td>0.055943</td>\n",
       "    </tr>\n",
       "  </tbody>\n",
       "</table><p>"
      ],
      "text/plain": [
       "<IPython.core.display.HTML object>"
      ]
     },
     "metadata": {},
     "output_type": "display_data"
    },
    {
     "name": "stderr",
     "output_type": "stream",
     "text": [
      "/opt/conda/lib/python3.10/site-packages/torch/nn/parallel/_functions.py:68: UserWarning: Was asked to gather along dimension 0, but all input tensors were scalars; will instead unsqueeze and return a vector.\n",
      "  warnings.warn('Was asked to gather along dimension 0, but all '\n",
      "/opt/conda/lib/python3.10/site-packages/torch/nn/parallel/_functions.py:68: UserWarning: Was asked to gather along dimension 0, but all input tensors were scalars; will instead unsqueeze and return a vector.\n",
      "  warnings.warn('Was asked to gather along dimension 0, but all '\n"
     ]
    },
    {
     "data": {
      "text/plain": [
       "TrainOutput(global_step=6237, training_loss=0.2420275273643397, metrics={'train_runtime': 4325.1977, 'train_samples_per_second': 23.063, 'train_steps_per_second': 1.442, 'total_flos': 3.041060585472e+16, 'train_loss': 0.2420275273643397, 'epoch': 3.0})"
      ]
     },
     "execution_count": 26,
     "metadata": {},
     "output_type": "execute_result"
    }
   ],
   "source": [
    "trainer.train()"
   ]
  },
  {
   "cell_type": "markdown",
   "metadata": {},
   "source": [
    "## Model Save"
   ]
  },
  {
   "cell_type": "code",
   "execution_count": 27,
   "metadata": {
    "execution": {
     "iopub.execute_input": "2023-08-01T02:18:44.034291Z",
     "iopub.status.busy": "2023-08-01T02:18:44.032925Z",
     "iopub.status.idle": "2023-08-01T02:18:45.127104Z",
     "shell.execute_reply": "2023-08-01T02:18:45.126099Z",
     "shell.execute_reply.started": "2023-08-01T02:18:44.034244Z"
    }
   },
   "outputs": [
    {
     "data": {
      "text/plain": [
       "('/kaggle/working/model/bartbase/tokenizer_config.json',\n",
       " '/kaggle/working/model/bartbase/special_tokens_map.json',\n",
       " '/kaggle/working/model/bartbase/vocab.json',\n",
       " '/kaggle/working/model/bartbase/merges.txt',\n",
       " '/kaggle/working/model/bartbase/added_tokens.json',\n",
       " '/kaggle/working/model/bartbase/tokenizer.json')"
      ]
     },
     "execution_count": 27,
     "metadata": {},
     "output_type": "execute_result"
    }
   ],
   "source": [
    "model.save_pretrained(\"/kaggle/working/model/bartbase\")\n",
    "tokenizer.save_pretrained(\"/kaggle/working/model/bartbase\")"
   ]
  }
 ],
 "metadata": {
  "kernelspec": {
   "display_name": "Python 3 (ipykernel)",
   "language": "python",
   "name": "python3"
  },
  "language_info": {
   "codemirror_mode": {
    "name": "ipython",
    "version": 3
   },
   "file_extension": ".py",
   "mimetype": "text/x-python",
   "name": "python",
   "nbconvert_exporter": "python",
   "pygments_lexer": "ipython3",
   "version": "3.9.12"
  }
 },
 "nbformat": 4,
 "nbformat_minor": 4
}
