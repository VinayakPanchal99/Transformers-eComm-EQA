{
 "cells": [
  {
   "cell_type": "markdown",
   "id": "e88234f7",
   "metadata": {},
   "source": [
    "## Dataset preparation - Stage 1 - Extracting samples from Amazon Review Dataset 2018 (Cell phones and Accessories)"
   ]
  },
  {
   "cell_type": "code",
   "execution_count": 1,
   "id": "07d6b5cf",
   "metadata": {},
   "outputs": [],
   "source": [
    "import os\n",
    "import json\n",
    "import gzip\n",
    "import pandas as pd\n",
    "import re"
   ]
  },
  {
   "cell_type": "code",
   "execution_count": 2,
   "id": "0a6cc515",
   "metadata": {},
   "outputs": [
    {
     "name": "stdout",
     "output_type": "stream",
     "text": [
      "590071\n"
     ]
    }
   ],
   "source": [
    "path_meta = \"meta_Cell_Phones_and_Accessories.json.gz\" \n",
    "\n",
    "# download this file from \"Cell Phones and Accessories\" metadata (590,269 products) Amazon dataset 2018 \n",
    "# link to amazon dataset: https://cseweb.ucsd.edu/~jmcauley/datasets/amazon_v2/\n",
    "\n",
    "\n",
    "data = []\n",
    "with gzip.open(path_meta) as f:\n",
    "    for l in f:\n",
    "        data.append(json.loads(l.strip()))\n",
    "    \n",
    "# total length of list, this number equals total number of products\n",
    "print(len(data))"
   ]
  },
  {
   "cell_type": "code",
   "execution_count": 3,
   "id": "d4cc25b1",
   "metadata": {},
   "outputs": [
    {
     "data": {
      "text/plain": [
       "{'category': ['Cell Phones & Accessories',\n",
       "  'Accessories',\n",
       "  'Chargers & Power Adapters',\n",
       "  'Car Chargers'],\n",
       " 'tech1': '',\n",
       " 'description': ['Heavy Duty Plug-In Car / Vehicle Charger for Motorola W376g Phone!'],\n",
       " 'fit': '',\n",
       " 'title': 'Heavy Duty Plug-In Car / Vehicle Charger for Motorola W376g Phone!',\n",
       " 'also_buy': [],\n",
       " 'tech2': '',\n",
       " 'brand': 'Wireless Solutions',\n",
       " 'feature': ['Complete your phone accessories with this quality charger at a fraction of the price!',\n",
       "  'Has a two stage digital chip built in for accurate charging at fast and slow speeds.',\n",
       "  'High quality ABS grade plastic means this charger will outlast the competition.',\n",
       "  'Powerfull Red LED lets you know when this is charging correctly.',\n",
       "  'Cord is double insulated and shielded and measures up to 6ft long.'],\n",
       " 'rank': ['>#4,911,957 in Cell Phones & Accessories (See Top 100 in Cell Phones & Accessories)',\n",
       "  '>#47,820 in Cell Phones & Accessories > Cell Phone Accessories > Car Accessories > Car Chargers',\n",
       "  '>#128,060 in Cell Phones & Accessories > Cell Phone Accessories > Chargers & Power Adapters',\n",
       "  '>#213,992 in Electronics > Accessories & Supplies > Vehicle Electronics Accessories'],\n",
       " 'also_view': [],\n",
       " 'details': {},\n",
       " 'main_cat': 'All Electronics',\n",
       " 'similar_item': '',\n",
       " 'date': 'December 7, 2009',\n",
       " 'price': '',\n",
       " 'asin': '819950028X',\n",
       " 'imageURL': [],\n",
       " 'imageURLHighRes': []}"
      ]
     },
     "execution_count": 3,
     "metadata": {},
     "output_type": "execute_result"
    }
   ],
   "source": [
    "data[100]"
   ]
  },
  {
   "cell_type": "code",
   "execution_count": 4,
   "id": "edeefedd",
   "metadata": {},
   "outputs": [],
   "source": [
    "# Considering first 100k samples from the dataset\n",
    "new_data = []\n",
    "for dic in data[:100001]:\n",
    "    new_dict = {key: dic[key] for key in ['category','description','title','brand','feature','asin'] if key in dic}\n",
    "    new_data.append(new_dict)"
   ]
  },
  {
   "cell_type": "code",
   "execution_count": 5,
   "id": "5f4e2d83",
   "metadata": {},
   "outputs": [],
   "source": [
    "data = []\n",
    "for d in new_data:\n",
    "    if not any(isinstance(v, (str, list)) and not v for v in d.values()):\n",
    "        data.append(d)"
   ]
  },
  {
   "cell_type": "code",
   "execution_count": 6,
   "id": "b4793ede",
   "metadata": {},
   "outputs": [
    {
     "data": {
      "text/plain": [
       "63233"
      ]
     },
     "execution_count": 6,
     "metadata": {},
     "output_type": "execute_result"
    }
   ],
   "source": [
    "len(data)  # only these products have category, description, feature, title, brand,asin in them"
   ]
  },
  {
   "cell_type": "code",
   "execution_count": 7,
   "id": "a4a2a7a7",
   "metadata": {},
   "outputs": [
    {
     "data": {
      "text/plain": [
       "{'category': ['Cell Phones & Accessories', 'Accessories', 'Cables'],\n",
       " 'description': ['The Micro-USB connector is rated for 10,000 connect-disconnect cycles which is significantly more than the mini plug design, and now being widely adopted by cellphone and PDA manufacturers. These include various types of battery chargers, allowing Micro-USB to be the single external cable link.Length 15ft1 x Type A USB1 x Type Micro USB-MaleLifetime Warranty'],\n",
       " 'title': '6 Ft Feet Sync &amp; charging Micro USB Data Cable Sanyo Taho Phone (Sprint)',\n",
       " 'brand': 'Importer520',\n",
       " 'feature': ['Brand New Generic Bulk Package',\n",
       "  '2 in 1 Sync+Charge Micro USB Cable',\n",
       "  'Compatible with: Garmin GPS Device dezl 560LMT 560LT nuLink 1695 nuvi 2300 2300LM 2350 2350LMT 2350LT 2360LMT 2370LT 2450 2450LM 2460LMT 3450 3450LM 3490LMT 3750 3760LMT 3760T 3790LMT 3790T',\n",
       "  'Comaptible with Kodak EasyShare Digital Camera Models: M5370 M5350 M590 M583 M577 M552 M532 M550 M530 C195 C183 M522 C1550',\n",
       "  'Compatible with HP TouchPad Tablet PC, Acer ICONIA A100 A500 A501, Amazon Kindle 2 3 DX, Western Digital WD My Passport Essential WDBACY5000ABK WDBACY5000ABL WDBACY5000ARD WDBACY5000ASL WDBACY5000AWT WDBACX0010BBK WDBACX0010BBL WDBACX0010BRD WDBACX0010BSL WDBACX7500ABK WDBACX7500ABL WDBACX7500ARD WDBACX7500ASL WDBAAB2500ACH WDBAAB3200ACH WDBAAB5000ACH WDBAAB6400ACH WDBABW0010BSL'],\n",
       " 'asin': 'B006QPNMOO'}"
      ]
     },
     "execution_count": 7,
     "metadata": {},
     "output_type": "execute_result"
    }
   ],
   "source": [
    "data[50000]"
   ]
  },
  {
   "cell_type": "code",
   "execution_count": 8,
   "id": "87659915",
   "metadata": {},
   "outputs": [],
   "source": [
    "main_data = []\n",
    "for dic in data:\n",
    "    dic_update = {}\n",
    "    des = ' '.join([f\"It is a {dic['brand']} product.\"] + dic['description'] + dic['feature'] + [f\"Categories of product are {' '.join(dic['category'])}\"])\n",
    "    des = re.sub(r\"[^a-zA-Z0-9.!?]+\", r\" \", des)\n",
    "    if len(des.split()) <= 400:\n",
    "        dic_update['id'] = dic['asin']\n",
    "        dic_update['title'] = dic['title']\n",
    "        dic_update['description'] = des\n",
    "        main_data.append(dic_update)"
   ]
  },
  {
   "cell_type": "code",
   "execution_count": 9,
   "id": "d31aef19",
   "metadata": {},
   "outputs": [
    {
     "data": {
      "text/plain": [
       "61117"
      ]
     },
     "execution_count": 9,
     "metadata": {},
     "output_type": "execute_result"
    }
   ],
   "source": [
    "len(main_data)"
   ]
  },
  {
   "cell_type": "code",
   "execution_count": 10,
   "id": "523a0f85",
   "metadata": {},
   "outputs": [
    {
     "data": {
      "text/plain": [
       "{'id': 'B006YW34BA',\n",
       " 'title': 'EMPIRE LG DoublePlay Rubberized Hard Case Cover (Hot Pink) [EMPIRE Packaging]',\n",
       " 'description': 'It is a EMPIRE product. EMPIRE s two piece snap on cases are made of highly durable plastic coated with a rubberized texture to give your device maximum protection and added grip without making it bulkier in size. Precisely engineered to fit your device the snap on case attaches easily and securely to the front and back side of it and also offers direct access to all of its features. Other colors are also available to choose from. Rubberized coated texture provides added protection against drops bumps and scratches. Engineered to fit device perfectly with cut outs to allow for full device functionality. Snap on system ensures case stays on device. Openings for full phone functionality. Constructed for strong durability and scratch resistance. EMPIRE is a registered trademark with the USPTO. Categories of product are Cell Phones Accessories Cases Holsters Sleeves Basic Cases'}"
      ]
     },
     "execution_count": 10,
     "metadata": {},
     "output_type": "execute_result"
    }
   ],
   "source": [
    "main_data[50000]"
   ]
  },
  {
   "cell_type": "code",
   "execution_count": 11,
   "id": "adf89a1f",
   "metadata": {},
   "outputs": [],
   "source": [
    "with open('Cell_Phones_and_Accessories_prep.json','w') as file:\n",
    "    json.dump(main_data,file,indent=4)"
   ]
  }
 ],
 "metadata": {
  "kernelspec": {
   "display_name": "Python 3 (ipykernel)",
   "language": "python",
   "name": "python3"
  },
  "language_info": {
   "codemirror_mode": {
    "name": "ipython",
    "version": 3
   },
   "file_extension": ".py",
   "mimetype": "text/x-python",
   "name": "python",
   "nbconvert_exporter": "python",
   "pygments_lexer": "ipython3",
   "version": "3.9.12"
  }
 },
 "nbformat": 4,
 "nbformat_minor": 5
}
